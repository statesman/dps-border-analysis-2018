{
 "cells": [
  {
   "cell_type": "code",
   "execution_count": 1,
   "metadata": {},
   "outputs": [],
   "source": [
    "import pandas as pd\n",
    "import geopandas as gpd\n",
    "\n",
    "from shapely.geometry import Point\n",
    "import matplotlib.pyplot as plt"
   ]
  },
  {
   "cell_type": "code",
   "execution_count": 2,
   "metadata": {},
   "outputs": [],
   "source": [
    "dat = pd.read_excel(\n",
    "    'Border_Custody_Arrest_2016-2017.xlsx',\n",
    "    skipfooter=3\n",
    ")"
   ]
  },
  {
   "cell_type": "markdown",
   "metadata": {},
   "source": [
    "Analyses use `Report No` to aggregate violations to numbers of criminal arrests in accordance with this caveat of the information request:\n",
    "\n",
    "> Please note that the data provided includes all violations from criminal arrests; therefore, multiple\n",
    "charges can be listed for the same violator. This listing reports all violations while the chart\n",
    "provided in connection with Director McCraw's testimony only includes the number of criminal\n",
    "arrests."
   ]
  },
  {
   "cell_type": "code",
   "execution_count": 3,
   "metadata": {},
   "outputs": [
    {
     "data": {
      "text/plain": [
       "'36,009 arrests'"
      ]
     },
     "execution_count": 3,
     "metadata": {},
     "output_type": "execute_result"
    }
   ],
   "source": [
    "'{:,} arrests'.format(len(\n",
    "    dat['Report No'].unique()\n",
    "))"
   ]
  },
  {
   "cell_type": "code",
   "execution_count": 4,
   "metadata": {},
   "outputs": [
    {
     "data": {
      "text/plain": [
       "2016    15,264\n",
       "2017    20,745\n",
       "Name: Arrests by year, dtype: object"
      ]
     },
     "execution_count": 4,
     "metadata": {},
     "output_type": "execute_result"
    }
   ],
   "source": [
    "dat.groupby('Report No')['Datetime'].first().apply(\n",
    "    lambda x: x.year\n",
    ").value_counts().apply(\n",
    "    '{:,}'.format\n",
    ").sort_index().rename(\n",
    "    'Arrests by year'\n",
    ")"
   ]
  },
  {
   "cell_type": "code",
   "execution_count": 5,
   "metadata": {},
   "outputs": [
    {
     "data": {
      "text/plain": [
       "Hidalgo         8,256\n",
       "El Paso         3,869\n",
       "Cameron         2,424\n",
       "Starr           1,948\n",
       "Ector           1,399\n",
       "Midland         1,328\n",
       "San Patricio    1,211\n",
       "Maverick        1,195\n",
       "Webb            1,186\n",
       "Nueces          1,076\n",
       "Tom Green         973\n",
       "Pecos             866\n",
       "Val Verde         674\n",
       "Aransas           594\n",
       "Jim Wells         585\n",
       "Hudspeth          503\n",
       "Uvalde            425\n",
       "Live Oak          416\n",
       "Howard            408\n",
       "Zapata            403\n",
       "Name: Arrests by county, dtype: object"
      ]
     },
     "execution_count": 5,
     "metadata": {},
     "output_type": "execute_result"
    }
   ],
   "source": [
    "dat.groupby('Report No')['County'].first().value_counts().apply(\n",
    "    '{:,}'.format\n",
    ").head(20).rename(\n",
    "    'Arrests by county'\n",
    ")"
   ]
  },
  {
   "cell_type": "markdown",
   "metadata": {},
   "source": [
    "### DWI and drug/smuggling-related violations"
   ]
  },
  {
   "cell_type": "code",
   "execution_count": 6,
   "metadata": {},
   "outputs": [
    {
     "name": "stdout",
     "output_type": "stream",
     "text": [
      "['CONTROLLED SUBSTANCE OFFENSES-MISDEMEANOR'\n",
      " 'INTOXICATION ASSAULT - FELONY' 'CONTROLLED SUBSTANCE OFFENSES-FELONY'\n",
      " 'POSSESSION OR DELIVERY OF DRUG PARAPHERNALIA'\n",
      " 'OTHER ASSAULTIVE OFFENSES-MISDEMEANOR'\n",
      " 'UNLAWFUL CARRYING WEAPONS (UCW)-MISDEMEANOR [46.05(a)(2)] '\n",
      " 'ASSAULT-FELONY' 'OTHER WEAPONS OFFENSES-FELONY'\n",
      " 'UNLAWFUL CARRYING WEAPONS (UCW)FELONY [46.05(a)(1,3,4,5);46.05(a)(6)] '\n",
      " 'ASSAULT-MISDEMEANOR' 'SMUGGLING OF PERSONS - FELONY [20.05] '\n",
      " 'UNLAWFUL CARRYING WEAPONS (UCW) - MISDEMEANOR (FEDERAL) EFFECTIVE 1/1/2000'\n",
      " 'AGGRAVATED ASSAULT-FELONY' 'OTHER ASSAULTIVE OFFENSES-FELONY'\n",
      " 'AGGRAVATED ASSAULT ON LAW ENFORC/CORR OFFICR,PROBATION PERSONNL-FELONY'\n",
      " 'UNLAWFUL CARRYING WEAPONS (UCW) - FELONY (FEDERAL)  EFFECTIVE 1/1/2000'\n",
      " 'SEXUAL ASSAULT-FELONY' 'ROBBERY-FELONY' 'AGGRAVATED ROBBERY-FELONY'\n",
      " 'AGGRAVATED SEXUAL ASSAULT-FELONY' 'AGGRAVATED ASSAULT-MISDEMEANOR'\n",
      " 'DRIVER HAS/USE DRUGS [392.4(a)] '\n",
      " 'TAKING OR ATTEMPING TO TAKE WEAPON FROM PEACE OFFICER-FELONY'\n",
      " 'SEXUAL ASSAULT-MISDEMEANOR']\n"
     ]
    }
   ],
   "source": [
    "drug_related = dat[\n",
    "    dat['Violation Description'].str.contains(\n",
    "        'DRUG|SMUGG|CONTROLLED SUBSTANCE|ASSAULT|BATTERY|WEAPON|ROBBERY'\n",
    "    )\n",
    "]['Violation Description'].unique()\n",
    "\n",
    "print(\n",
    "    drug_related\n",
    ")"
   ]
  },
  {
   "cell_type": "code",
   "execution_count": 7,
   "metadata": {},
   "outputs": [],
   "source": [
    "dwi = [\n",
    "    'DRIVING UNDER THE INFLUENCE BY MINOR (UNDER 21 YEARS OF AGE)(#)',\n",
    "    'DRIVING WHILE INTOXICATED-1ST OFFENSE',\n",
    "    'DRIVING WHILE INTOXICATED-2ND OFFENSE',\n",
    "    'DRIVING WHILE INTOXICATED-1ST OFFENSE:OPEN CONTAINER',\n",
    "    'DRIVING WHILE INTOXICATED-3RD/SUBSEQUENT OFFENSE',\n",
    "    'DRIVING WHILE INTOXICATED-2ND OFFENSE:WITH SERIOUS BODILY INJURY',\n",
    "    'DRIVING WHILE INTOXICATED-3RD/SUB OFF:OPEN CONTAINER'\n",
    "]"
   ]
  },
  {
   "cell_type": "code",
   "execution_count": 8,
   "metadata": {},
   "outputs": [],
   "source": [
    "dat_drug_dwi = dat.assign(\n",
    "    # For each violation, determine if it is related to drugs/smuggling or DWI\n",
    "    drug_related = dat['Violation Description'].isin(drug_related),\n",
    "    dwi = dat['Violation Description'].isin(dwi),\n",
    "    non_dwi = dat['Violation Description'].isin(dwi) == False\n",
    ").groupby('Report No')[[\n",
    "    # Group violations by arrest\n",
    "    'drug_related',\n",
    "    'dwi',\n",
    "    'non_dwi'\n",
    "]].sum().applymap(\n",
    "    # Did the arrest have at least one of\n",
    "    # each violation category?\n",
    "    lambda x: x > 0\n",
    ").assign(\n",
    "    # Rename values for legibility\n",
    "    drug_related = lambda x: x.drug_related.replace(\n",
    "        True, 'drug/smuggling'\n",
    "    ).replace(\n",
    "        False, 'No drug/smuggling'\n",
    "    ),\n",
    "    dwi = lambda x: x.dwi.replace(\n",
    "        True, 'DWI'\n",
    "    ).replace(\n",
    "        False, 'No DWI'\n",
    "    ),\n",
    "    non_dwi = lambda x: x.non_dwi.replace(\n",
    "        True, 'Non-DWI'\n",
    "    ).replace(\n",
    "        False, 'Zero non-Dwi'\n",
    "    )\n",
    ")"
   ]
  },
  {
   "cell_type": "code",
   "execution_count": 9,
   "metadata": {},
   "outputs": [
    {
     "data": {
      "text/html": [
       "<div>\n",
       "<style>\n",
       "    .dataframe thead tr:only-child th {\n",
       "        text-align: right;\n",
       "    }\n",
       "\n",
       "    .dataframe thead th {\n",
       "        text-align: left;\n",
       "    }\n",
       "\n",
       "    .dataframe tbody tr th {\n",
       "        vertical-align: top;\n",
       "    }\n",
       "</style>\n",
       "<table border=\"1\" class=\"dataframe\">\n",
       "  <thead>\n",
       "    <tr style=\"text-align: right;\">\n",
       "      <th></th>\n",
       "      <th></th>\n",
       "      <th>percent of arrests</th>\n",
       "    </tr>\n",
       "    <tr>\n",
       "      <th>drug_related</th>\n",
       "      <th>dwi</th>\n",
       "      <th></th>\n",
       "    </tr>\n",
       "  </thead>\n",
       "  <tbody>\n",
       "    <tr>\n",
       "      <th>drug/smuggling</th>\n",
       "      <th>No DWI</th>\n",
       "      <td>42.73%</td>\n",
       "    </tr>\n",
       "    <tr>\n",
       "      <th rowspan=\"2\" valign=\"top\">No drug/smuggling</th>\n",
       "      <th>No DWI</th>\n",
       "      <td>28.23%</td>\n",
       "    </tr>\n",
       "    <tr>\n",
       "      <th>DWI</th>\n",
       "      <td>27.84%</td>\n",
       "    </tr>\n",
       "    <tr>\n",
       "      <th>drug/smuggling</th>\n",
       "      <th>DWI</th>\n",
       "      <td>1.20%</td>\n",
       "    </tr>\n",
       "  </tbody>\n",
       "</table>\n",
       "</div>"
      ],
      "text/plain": [
       "                         percent of arrests\n",
       "drug_related      dwi                      \n",
       "drug/smuggling    No DWI             42.73%\n",
       "No drug/smuggling No DWI             28.23%\n",
       "                  DWI                27.84%\n",
       "drug/smuggling    DWI                 1.20%"
      ]
     },
     "execution_count": 9,
     "metadata": {},
     "output_type": "execute_result"
    }
   ],
   "source": [
    "pd.crosstab(\n",
    "    dat_drug_dwi.dwi,\n",
    "    dat_drug_dwi.drug_related,\n",
    "    normalize=True\n",
    ").unstack().sort_values(ascending=False).apply(\n",
    "    '{:.2%}'.format\n",
    ").apply(pd.Series).rename(\n",
    "    columns = {0: 'percent of arrests'}\n",
    ")"
   ]
  },
  {
   "cell_type": "markdown",
   "metadata": {},
   "source": [
    "### DWI arrests by county"
   ]
  },
  {
   "cell_type": "code",
   "execution_count": 10,
   "metadata": {},
   "outputs": [],
   "source": [
    "dat_dwi_county = dat.assign(\n",
    "    drug_related = dat['Violation Description'].isin(drug_related),\n",
    "    dwi = dat['Violation Description'].isin(dwi),\n",
    "    non_dwi = dat['Violation Description'].isin(dwi) == False\n",
    ").groupby('Report No')[[\n",
    "    'drug_related',\n",
    "    'dwi',\n",
    "    'non_dwi',\n",
    "    'County'\n",
    "]].agg({\n",
    "    'drug_related': sum,\n",
    "    'dwi': sum,\n",
    "    'non_dwi': sum,\n",
    "    'County': pd.Series.mode\n",
    "}).query(\n",
    "    # Get arrests that had a DWI violation\n",
    "    # and no drugs/smuggling-related violations\n",
    "    'dwi == 1 & drug_related == 0 & non_dwi == 0'\n",
    ").groupby(\n",
    "    'County'\n",
    ").dwi.sum()"
   ]
  },
  {
   "cell_type": "code",
   "execution_count": 11,
   "metadata": {},
   "outputs": [
    {
     "data": {
      "text/plain": [
       "County\n",
       "Ector        364\n",
       "Midland      265\n",
       "Martin        32\n",
       "McCulloch     28\n",
       "Kimble        22\n",
       "Mason         12\n",
       "Menard         6\n",
       "Name: DWI arrests in Midland-Odessa metro and Hill Country, dtype: int64"
      ]
     },
     "execution_count": 11,
     "metadata": {},
     "output_type": "execute_result"
    }
   ],
   "source": [
    "dat_dwi_county.loc[[\n",
    "    # Midland-Odessa\n",
    "    'Ector',\n",
    "    'Midland',\n",
    "    'Martin',\n",
    "    # Hill Country\n",
    "    'Kimble',\n",
    "    'Mason',\n",
    "    'McCulloch',\n",
    "    'Menard',\n",
    "]].sort_values(\n",
    "    ascending=False\n",
    ").rename(\n",
    "    'DWI arrests in Midland-Odessa metro and Hill Country'\n",
    ").astype(int)"
   ]
  },
  {
   "cell_type": "markdown",
   "metadata": {},
   "source": [
    "### Arrests within 100 miles of US-Mexico border\n",
    "\n",
    "**Note:** not all arrest records have latitude and longitude"
   ]
  },
  {
   "cell_type": "code",
   "execution_count": 12,
   "metadata": {},
   "outputs": [],
   "source": [
    "# Create a GeoDataFrame\n",
    "\n",
    "dat_geo = gpd.GeoDataFrame(\n",
    "    dat.replace('--', pd.np.nan).assign(\n",
    "        geometry = lambda x: x[['Latitude', 'Longitude']].apply(\n",
    "            # Only make a point if both Latitude and Longitude are available\n",
    "            lambda x: pd.np.nan if pd.np.isnan(x[1]) or pd.np.isnan(x[0])else Point(x[1], x[0]), axis=1\n",
    "        )\n",
    "    ).assign(\n",
    "        is_point = lambda x: x.geometry.isnull() == False\n",
    "    ).query(\n",
    "        # Only include valid Latitude/Longitude points\n",
    "        'is_point'\n",
    "    ).drop('is_point', axis=1)\n",
    ")\n",
    "\n",
    "dat_geo.crs = {'init' :'epsg:4326'}"
   ]
  },
  {
   "cell_type": "code",
   "execution_count": 13,
   "metadata": {},
   "outputs": [
    {
     "name": "stdout",
     "output_type": "stream",
     "text": [
      "29,099 (80.8%) geocoded arrests\n"
     ]
    }
   ],
   "source": [
    "print(\n",
    "    '{:,} ({:.1%}) geocoded arrests'.format(\n",
    "        len(dat_geo['Report No'].unique()),\n",
    "        \n",
    "        len(dat_geo['Report No'].unique()) / len(\n",
    "            dat['Report No'].unique()\n",
    "        )\n",
    "    )\n",
    ")\n"
   ]
  },
  {
   "cell_type": "code",
   "execution_count": 14,
   "metadata": {},
   "outputs": [
    {
     "data": {
      "image/png": "[encoded data removed]",
      "text/plain": [
       "<matplotlib.figure.Figure at 0x112e4bb70>"
      ]
     },
     "metadata": {},
     "output_type": "display_data"
    }
   ],
   "source": [
    "# Download Natural Earth boundary lines\n",
    "# https://www.naturalearthdata.com/downloads/10m-cultural-vectors/\n",
    "dat_border = gpd.read_file(\n",
    "    'ne_10m_admin_0_boundary_lines_land/ne_10m_admin_0_boundary_lines_land.shp'\n",
    ").query(\n",
    "    # Isolate US-Mexico border\n",
    "    'adm0_abr_r == \"U.S.A.\" & adm0_left == \"Mexico\"'\n",
    ")\n",
    "\n",
    "# Create a 100-mile buffer around US-Mexico border\n",
    "dat_border_100 = dat_border.to_crs({\n",
    "    'init': 'epsg:3663'\n",
    "}).buffer(\n",
    "    100 * 1609.34\n",
    "    # Projection is in meters\n",
    "    # Generate 100-mile buffer with 1609.34 meters per mile\n",
    ").to_crs({\n",
    "    'init': 'epsg:4326'\n",
    "})\n",
    "\n",
    "dat_border_100.plot()\n",
    "\n",
    "plt.show()"
   ]
  },
  {
   "cell_type": "code",
   "execution_count": 15,
   "metadata": {},
   "outputs": [
    {
     "data": {
      "text/html": [
       "<div>\n",
       "<style>\n",
       "    .dataframe thead tr:only-child th {\n",
       "        text-align: right;\n",
       "    }\n",
       "\n",
       "    .dataframe thead th {\n",
       "        text-align: left;\n",
       "    }\n",
       "\n",
       "    .dataframe tbody tr th {\n",
       "        vertical-align: top;\n",
       "    }\n",
       "</style>\n",
       "<table border=\"1\" class=\"dataframe\">\n",
       "  <thead>\n",
       "    <tr style=\"text-align: right;\">\n",
       "      <th></th>\n",
       "      <th></th>\n",
       "    </tr>\n",
       "  </thead>\n",
       "  <tbody>\n",
       "    <tr>\n",
       "      <th>Within 100 miles</th>\n",
       "      <td>73.22%</td>\n",
       "    </tr>\n",
       "    <tr>\n",
       "      <th>Beyond 100 miles</th>\n",
       "      <td>26.78%</td>\n",
       "    </tr>\n",
       "  </tbody>\n",
       "</table>\n",
       "</div>"
      ],
      "text/plain": [
       "                        \n",
       "Within 100 miles  73.22%\n",
       "Beyond 100 miles  26.78%"
      ]
     },
     "execution_count": 15,
     "metadata": {},
     "output_type": "execute_result"
    }
   ],
   "source": [
    "dat_geo.assign(\n",
    "    within_border_100 = lambda x: x.geometry.within(dat_border_100.iloc[0]),\n",
    ").groupby('Report No').within_border_100.sum().apply(\n",
    "    lambda x: x > 0\n",
    ").value_counts(normalize=True).apply(\n",
    "    '{:.2%}'.format\n",
    ").rename({\n",
    "    True: 'Within 100 miles',\n",
    "    False: 'Beyond 100 miles'\n",
    "}).apply(pd.Series).rename(\n",
    "    columns = {0: ''}\n",
    ")"
   ]
  },
  {
   "cell_type": "code",
   "execution_count": null,
   "metadata": {},
   "outputs": [],
   "source": []
  }
 ],
 "metadata": {
  "kernelspec": {
   "display_name": "Python 3",
   "language": "python",
   "name": "python3"
  },
  "language_info": {
   "codemirror_mode": {
    "name": "ipython",
    "version": 3
   },
   "file_extension": ".py",
   "mimetype": "text/x-python",
   "name": "python",
   "nbconvert_exporter": "python",
   "pygments_lexer": "ipython3",
   "version": "3.6.1"
  }
 },
 "nbformat": 4,
 "nbformat_minor": 2
}
